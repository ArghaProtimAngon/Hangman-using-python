{
 "cells": [
  {
   "cell_type": "code",
   "execution_count": 11,
   "id": "ac210738-fb57-433d-bd06-8bd07e8228cd",
   "metadata": {},
   "outputs": [
    {
     "name": "stdout",
     "output_type": "stream",
     "text": [
      "30 24 18 \n",
      "84 69 54 \n",
      "138 114 90 \n"
     ]
    }
   ],
   "source": [
    "def print_matrix(matrix):\n",
    "    for i in range(len(matrix)):\n",
    "        for j in range(len(matrix[0])):\n",
    "            print(matrix[i][j],end = \" \")\n",
    "        print(\"\")\n",
    "\n",
    "def matrix_maker(row,col):\n",
    "    temp=[]\n",
    "    temp1=[]\n",
    "    \n",
    "    for j in range(col):\n",
    "        temp1.append(0)\n",
    "    for k in range(row):\n",
    "        temp.append(temp1.copy())\n",
    "    return temp\n",
    "\n",
    "\n",
    "def matrix_multiplication(matrix1, matrix2):\n",
    "    row1 = len(matrix1)\n",
    "    row2 = len(matrix2)\n",
    "\n",
    "    col1 = len(matrix1[0])\n",
    "    col2 = len(matrix2[0])\n",
    "    matrix = matrix_maker(row1,col2).copy()\n",
    "    #matrix[0][0] = \"YOLO\"\n",
    "    #print(matrix)\n",
    "    #print_matrix(matrix)\n",
    "\n",
    "    for counter3 in range(row1):\n",
    "        #print(f\"Counter3 = {counter3}\")\n",
    "        #print(\"\\n\\n\\n\")\n",
    "        for counter2 in range(col2):\n",
    "            #print(f\"Counter2 = {counter2}\")\n",
    "            add = 0\n",
    "            for counter in range(col1):\n",
    "                add = add +  (matrix1[counter3][counter]  * matrix2[counter][counter2]   ) \n",
    "            #print(add)\n",
    "            matrix[counter3][counter2] = add\n",
    "            #print_matrix(matrix)\n",
    "            \n",
    "\n",
    "    \n",
    "    print_matrix(matrix)\n",
    "\n",
    "\n",
    "\n",
    "matrix1 = [\n",
    "    [1, 2, 3],\n",
    "    [4, 5, 6],\n",
    "    [7, 8, 9]\n",
    "]\n",
    "\n",
    "matrix2 = [\n",
    "    [9, 8, 7],\n",
    "    [6, 5, 4],\n",
    "    [3, 2, 1]\n",
    "]\n",
    "\n",
    "matrix_multiplication(matrix1, matrix2)\n",
    "#print_matrix(matrix1)\n"
   ]
  },
  {
   "cell_type": "code",
   "execution_count": null,
   "id": "93193ac2-2936-45d4-bcbb-a72812734033",
   "metadata": {},
   "outputs": [],
   "source": []
  },
  {
   "cell_type": "code",
   "execution_count": null,
   "id": "563df9a4-c89d-4e76-bb9f-da9030d26b53",
   "metadata": {},
   "outputs": [],
   "source": []
  },
  {
   "cell_type": "code",
   "execution_count": 50,
   "id": "ed4e9ce7-3417-4b17-abe3-f2c39f5eafe5",
   "metadata": {},
   "outputs": [
    {
     "name": "stdout",
     "output_type": "stream",
     "text": [
      "\n",
      "\n",
      "\n",
      "\n",
      "_ _ _ _ _ \n",
      "\n"
     ]
    },
    {
     "name": "stdin",
     "output_type": "stream",
     "text": [
      "Enter a letter:  e\n"
     ]
    },
    {
     "name": "stdout",
     "output_type": "stream",
     "text": [
      "\n",
      "\n",
      "\n",
      "\n",
      "_ e _ _ _ \n",
      "\n"
     ]
    },
    {
     "name": "stdin",
     "output_type": "stream",
     "text": [
      "Enter a letter:  a\n"
     ]
    },
    {
     "name": "stdout",
     "output_type": "stream",
     "text": [
      "Try Again!!!. Remaining Lives = 4\n",
      "\n",
      "\n",
      "\n",
      "\n",
      "_ e _ _ _ \n",
      "\n"
     ]
    },
    {
     "name": "stdin",
     "output_type": "stream",
     "text": [
      "Enter a letter:  i\n"
     ]
    },
    {
     "name": "stdout",
     "output_type": "stream",
     "text": [
      "Try Again!!!. Remaining Lives = 3\n",
      "\n",
      "\n",
      "\n",
      "\n",
      "_ e _ _ _ \n",
      "\n"
     ]
    },
    {
     "name": "stdin",
     "output_type": "stream",
     "text": [
      "Enter a letter:  t\n"
     ]
    },
    {
     "name": "stdout",
     "output_type": "stream",
     "text": [
      "Try Again!!!. Remaining Lives = 2\n",
      "\n",
      "\n",
      "\n",
      "\n",
      "_ e _ _ _ \n",
      "\n"
     ]
    },
    {
     "name": "stdin",
     "output_type": "stream",
     "text": [
      "Enter a letter:  n\n"
     ]
    },
    {
     "name": "stdout",
     "output_type": "stream",
     "text": [
      "\n",
      "\n",
      "\n",
      "\n",
      "_ e _ _ n \n",
      "\n"
     ]
    },
    {
     "name": "stdin",
     "output_type": "stream",
     "text": [
      "Enter a letter:  m\n"
     ]
    },
    {
     "name": "stdout",
     "output_type": "stream",
     "text": [
      "\n",
      "\n",
      "\n",
      "\n",
      "_ e m _ n \n",
      "\n"
     ]
    },
    {
     "name": "stdin",
     "output_type": "stream",
     "text": [
      "Enter a letter:  l\n"
     ]
    },
    {
     "name": "stdout",
     "output_type": "stream",
     "text": [
      "\n",
      "\n",
      "\n",
      "\n",
      "l e m _ n \n",
      "\n"
     ]
    },
    {
     "name": "stdin",
     "output_type": "stream",
     "text": [
      "Enter a letter:  o\n"
     ]
    },
    {
     "name": "stdout",
     "output_type": "stream",
     "text": [
      "l e m o n \n",
      "\n",
      "!!!!!!!!YAYYYYYYYYYYYYY!!!!! \n",
      " YOU WIN!!!!!!!!!!!!!!!\n"
     ]
    }
   ],
   "source": [
    "import random\n",
    "\n",
    "words = [\n",
    "    \"apple\", \"banana\", \"grape\", \"orange\", \"kiwi\", \"mango\", \"peach\", \"pear\", \"plum\", \"cherry\",\n",
    "    \"strawberry\", \"blueberry\", \"raspberry\", \"pineapple\", \"watermelon\", \"lemon\", \"lime\", \"coconut\", \n",
    "    \"apricot\", \"fig\", \"papaya\", \"melon\", \"guava\", \"lychee\", \"nectarine\", \"date\", \"avocado\", \"blackberry\",\n",
    "    \"pomegranate\", \"mandarin\", \"tangerine\", \"olive\", \"passionfruit\", \"durian\", \"dragonfruit\", \"cantaloupe\",\n",
    "    \"grapefruit\", \"elderberry\", \"currant\", \"quince\", \"persimmon\", \"carrot\", \"potato\", \"onion\", \"garlic\",\n",
    "    \"ginger\", \"spinach\", \"broccoli\", \"cauliflower\", \"zucchini\", \"cucumber\", \"pepper\", \"tomato\", \"celery\",\n",
    "    \"radish\", \"turnip\", \"beet\", \"lettuce\", \"cabbage\", \"artichoke\", \"asparagus\", \"okra\", \"eggplant\", \"squash\",\n",
    "    \"pumpkin\", \"yam\", \"peas\", \"bean\", \"corn\", \"mushroom\", \"parsnip\", \"chickpea\", \"soybean\", \"lentil\", \n",
    "    \"quinoa\", \"rice\", \"wheat\", \"barley\", \"oats\", \"rye\", \"sorghum\", \"millet\", \"buckwheat\", \"chia\", \n",
    "    \"flax\", \"hemp\", \"walnut\", \"almond\", \"pecan\", \"cashew\", \"hazelnut\", \"macadamia\", \"pistachio\", \"pine\",\n",
    "    \"peanut\", \"chestnut\", \"acorn\", \"squirrel\", \"rabbit\", \"deer\", \"fox\", \"wolf\", \"bear\", \"tiger\", \"lion\",\n",
    "    \"elephant\", \"giraffe\", \"zebra\", \"hippopotamus\", \"rhinoceros\", \"crocodile\", \"alligator\", \"kangaroo\", \n",
    "    \"koala\", \"panda\", \"leopard\", \"jaguar\", \"cheetah\", \"hyena\", \"antelope\", \"buffalo\", \"moose\", \"beaver\",\n",
    "    \"otter\", \"weasel\", \"ferret\", \"mink\", \"badger\", \"mongoose\", \"meerkat\", \"wombat\", \"platypus\", \"penguin\",\n",
    "    \"ostrich\", \"parrot\", \"canary\", \"eagle\", \"falcon\", \"hawk\", \"owl\", \"sparrow\", \"pigeon\", \"duck\", \"goose\",\n",
    "    \"swan\", \"turkey\", \"chicken\", \"rooster\", \"peacock\", \"dove\", \"crow\", \"raven\", \"magpie\", \"heron\", \"ibis\",\n",
    "    \"stork\", \"flamingo\", \"woodpecker\", \"hummingbird\", \"bat\", \"fish\", \"shark\", \"whale\", \"dolphin\", \"seal\",\n",
    "    \"walrus\", \"octopus\", \"squid\", \"jellyfish\", \"starfish\", \"crab\", \"lobster\", \"shrimp\", \"clam\", \"oyster\",\n",
    "    \"snail\", \"slug\", \"butterfly\", \"moth\", \"bee\", \"wasp\", \"ant\", \"spider\", \"scorpion\", \"dragonfly\", \n",
    "    \"grasshopper\", \"cricket\", \"beetle\", \"ladybug\", \"caterpillar\", \"centipede\", \"millipede\", \"termite\",\n",
    "    \"cockroach\", \"mosquito\", \"fly\", \"worm\", \"earthworm\"\n",
    "]\n",
    "\n",
    "def hangman_random():\n",
    "    rndm = random.random()\n",
    "    rndm = rndm * 1000\n",
    "    rndm = (rndm)% len(words)\n",
    "    rndm = int(rndm)\n",
    "    return rndm\n",
    "\n",
    "def convert_string_to_array(string):\n",
    "    string_len = len(string)\n",
    "    array = [0]*string_len\n",
    "    for i in range(string_len):\n",
    "        array[i] = string[i].lower()\n",
    "    \n",
    "    return array.copy()\n",
    "    \n",
    "\n",
    "def print_array(array):\n",
    "    array_len = len(array)\n",
    "    for i in range(array_len):\n",
    "        print(array[i],end=\" \")\n",
    "    print(\"\\n\")\n",
    "\n",
    "\n",
    "def check_input(word_array, blank_space, user_input):\n",
    "    correct_input = False\n",
    "    array_len = len(word_array)\n",
    "    for i in range(array_len):\n",
    "        if word_array[i] == user_input:\n",
    "            blank_space[i] = user_input\n",
    "            correct_input = True\n",
    "\n",
    "    return correct_input\n",
    "\n",
    "\n",
    "\n",
    "def select_word():\n",
    "    global words\n",
    "    rndm = hangman_random() # return a random number from 0 to the lenth of the array called words\n",
    "    word = words[rndm]\n",
    "    return word\n",
    "\n",
    "def checK_game_end(blank_space):\n",
    "    game_end_flag = True\n",
    "    array_len = len(blank_space)\n",
    "    for i in range(array_len):\n",
    "        if blank_space[i] == \"_\":\n",
    "            game_end_flag = False\n",
    "    return game_end_flag\n",
    "\n",
    "\n",
    "def initialize_game(blank_space):\n",
    "    print(\"\\n\\n\\n\")\n",
    "    print_array(blank_space)  \n",
    "\n",
    "def handle_user_input():\n",
    "    while True:\n",
    "        user_input = input(\"Enter a letter: \")\n",
    "        user_input = user_input.lower()\n",
    "        if len(user_input)>1:\n",
    "            print(\"INVALID\\n\\n\")\n",
    "            continue\n",
    "        else:\n",
    "            if ( ord(user_input)<97  or ord(user_input)>122  ):\n",
    "                print(\"INVALID\\n\\n\")\n",
    "                continue\n",
    "        return user_input\n",
    "\n",
    "\n",
    "\n",
    "def print_game_win(blank_space):\n",
    "    print_array(blank_space)\n",
    "    print(\"!!!!!!!!YAYYYYYYYYYYYYY!!!!! \\n YOU WIN!!!!!!!!!!!!!!!\")\n",
    "\n",
    "\n",
    "def print_game_lost(word_array):\n",
    "    print(\"YOU LOST. The correct answer is: \", end = \" \")\n",
    "    print_array(word_array)\n",
    "\n",
    "\n",
    "\n",
    "def check_win_or_lose(tries, word_array, blank_space):\n",
    "    if tries == 0:\n",
    "        print_game_lost(word_array)\n",
    "    else:\n",
    "        print_game_win(blank_space)\n",
    "\n",
    "\n",
    "\n",
    "def game_start(word_array, blank_space, tries):\n",
    "    while tries>0:\n",
    "        initialize_game(blank_space)\n",
    "        user_input = handle_user_input()\n",
    "        correct_input = check_input(word_array, blank_space, user_input)\n",
    "        \n",
    "        if correct_input == False:\n",
    "            tries += -1\n",
    "            print(f\"Try Again!!!. Remaining Lives = {tries}\")\n",
    "            continue\n",
    "\n",
    "        \n",
    "        game_end_flag = checK_game_end(blank_space)\n",
    "        if game_end_flag == True:\n",
    "            break \n",
    "        else:\n",
    "            continue\n",
    "    \n",
    "    check_win_or_lose(tries, word_array, blank_space)    \n",
    "\n",
    "\n",
    "def hangman():\n",
    "    #loading phase before game start==========================================================================\n",
    "    word = select_word()  # this function outputs a random word for playing the hangman game\n",
    "    word_array =  convert_string_to_array(word) \n",
    "    blank_space = [\"_\"]*len(word_array)\n",
    "    tries = 5 #player can try 5 times\n",
    "    #=========================================================================================================\n",
    "    \n",
    "    game_start(word_array, blank_space, tries)\n",
    "    \n",
    "            \n",
    "hangman()\n"
   ]
  },
  {
   "cell_type": "code",
   "execution_count": 14,
   "id": "e2bb811f-d93e-4011-8194-a696e28745cf",
   "metadata": {},
   "outputs": [
    {
     "data": {
      "text/plain": [
       "'Hullo'"
      ]
     },
     "execution_count": 14,
     "metadata": {},
     "output_type": "execute_result"
    }
   ],
   "source": [
    "def change_string(string, index, replace):\n",
    "    new = \"\"\n",
    "    for i in range(len(string)):\n",
    "        if i == index:\n",
    "            new = new + replace\n",
    "        else:\n",
    "            new = new + string[i]\n",
    "    return new\n",
    "change_string(\"Hello\", 1, \"u\")    "
   ]
  },
  {
   "cell_type": "code",
   "execution_count": 17,
   "id": "36f81cd5-f433-492b-819a-4a88f4f988b4",
   "metadata": {},
   "outputs": [
    {
     "name": "stdout",
     "output_type": "stream",
     "text": [
      "[1, 2, 3, 1, 2, 3, 1, 2, 3, 1, 2, 3, 1, 2, 3]\n"
     ]
    }
   ],
   "source": []
  },
  {
   "cell_type": "code",
   "execution_count": 38,
   "id": "21fb9e34-6887-4ba1-8c78-3486e0da3e08",
   "metadata": {},
   "outputs": [
    {
     "data": {
      "text/plain": [
       "97"
      ]
     },
     "execution_count": 38,
     "metadata": {},
     "output_type": "execute_result"
    }
   ],
   "source": [
    "ord(\"a\")"
   ]
  },
  {
   "cell_type": "code",
   "execution_count": null,
   "id": "a5ffe81f-24fe-4c8f-8af7-0f2b83f7fb6a",
   "metadata": {},
   "outputs": [],
   "source": []
  }
 ],
 "metadata": {
  "kernelspec": {
   "display_name": "Python 3 (ipykernel)",
   "language": "python",
   "name": "python3"
  },
  "language_info": {
   "codemirror_mode": {
    "name": "ipython",
    "version": 3
   },
   "file_extension": ".py",
   "mimetype": "text/x-python",
   "name": "python",
   "nbconvert_exporter": "python",
   "pygments_lexer": "ipython3",
   "version": "3.12.7"
  }
 },
 "nbformat": 4,
 "nbformat_minor": 5
}
